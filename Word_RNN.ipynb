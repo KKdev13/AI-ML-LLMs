{
 "cells": [
  {
   "cell_type": "markdown",
   "metadata": {
    "id": "UJp5jAMqZLW4"
   },
   "source": [
    "# WordRNN\n",
    "\n",
    "This notebook implements a simple word level neural network. Based on the sequence of words in the text, we will train an RNN to predict the next words in the sequence.\n"
   ]
  },
  {
   "cell_type": "code",
   "execution_count": 2,
   "metadata": {
    "colab": {
     "base_uri": "https://localhost:8080/"
    },
    "executionInfo": {
     "elapsed": 2740,
     "status": "ok",
     "timestamp": 1729951442546,
     "user": {
      "displayName": "Thomas Long",
      "userId": "15975061006049740720"
     },
     "user_tz": 240
    },
    "id": "cfL90JxzPsvc",
    "outputId": "e8fb46da-cadf-48e8-e4ab-e0b25263e9ba"
   },
   "outputs": [
    {
     "data": {
      "text/plain": [
       "<torch._C.Generator at 0x1747c8e2510>"
      ]
     },
     "execution_count": 2,
     "metadata": {},
     "output_type": "execute_result"
    }
   ],
   "source": [
    "import torch\n",
    "import torch.nn as nn\n",
    "import torch.optim as optim\n",
    "import numpy as np\n",
    "\n",
    "torch.manual_seed(0)"
   ]
  },
  {
   "cell_type": "markdown",
   "metadata": {
    "id": "-NztEb3nZYoo"
   },
   "source": [
    "**Download and prepare the data**\n",
    "\n",
    "Prepare the text data by encoding characters as integers. Then divide the text into sequences of characters."
   ]
  },
  {
   "cell_type": "code",
   "execution_count": 4,
   "metadata": {
    "colab": {
     "base_uri": "https://localhost:8080/"
    },
    "executionInfo": {
     "elapsed": 310,
     "status": "ok",
     "timestamp": 1729951442853,
     "user": {
      "displayName": "Thomas Long",
      "userId": "15975061006049740720"
     },
     "user_tz": 240
    },
    "id": "QgmeL9laP-Ui",
    "outputId": "42ab3410-2119-49d8-d918-9a284481dc87"
   },
   "outputs": [
    {
     "name": "stdout",
     "output_type": "stream",
     "text": [
      "THE SONNETS\n",
      "\n",
      "by William Shakespeare\n",
      "\n",
      "From fairest creatures we desire increase,\n",
      "That thereby beauty's rose might never die,\n",
      "But as the riper should by time decease,\n",
      "His tender heir might bear his memory:\n",
      "But thou contracted to thine own bright eyes,\n",
      "Feed'st thy light's flame with self-substantial fuel,\n",
      "Making a famine where abundance lies,\n",
      "Thy self thy foe, to thy sweet self too cruel:\n",
      "Thou that art now the world's fresh ornament,\n",
      "And only herald to the gaudy spring,\n",
      "Within thine own bud buriest thy content,\n",
      "And tender churl mak'st waste in niggarding:\n",
      "Pity the world, or else this glutton be,\n",
      "To eat the world's due, by the grave and thee.\n",
      "\n",
      "When forty winters shall besiege thy brow,\n",
      "And dig deep trenches in thy beauty's field,\n",
      "Thy youth's proud livery so gazed on now,\n",
      "Will be a tattered weed of small worth held:  \n",
      "Then being asked, where all thy beauty lies,\n",
      "Where all the treasure of thy lusty days;\n",
      "To say within thine own deep sunken eyes,\n",
      "Were an all-eating shame, and thriftless praise.\n",
      "How much more praise deserved thy beauty's use,\n",
      "If thou couldst answer 'This fair child of mine\n",
      "Shall sum my count, and make my old excuse'\n",
      "Proving his beauty by succession thine.\n",
      "This were to be new made when thou art old,\n",
      "And see thy blood warm when thou feel'st it cold.\n",
      "\n",
      "Look in thy glass and tell the face thou viewest,\n",
      "Now is the time that face should form another,\n",
      "Whose fresh repair if now thou not renewest,\n",
      "Thou dost beguile the world, unbless some mother.\n",
      "For where is she so fair whose uneared womb\n",
      "Disdains the tillage of thy husbandry?\n",
      "Or who is he so fond will be the tomb,\n",
      "Of his self-love to stop posterity?  \n",
      "Thou art thy mother's glass and she in thee\n",
      "Calls back the lovely April of her prime,\n",
      "So thou through windows of thine age shalt see,\n",
      "Despite of wrinkles this thy golden time.\n",
      "But if thou live remembered not to be,\n",
      "Die single and thine image dies with thee.\n",
      "\n",
      "Unthrifty loveliness why dost thou spend,\n",
      "Upon thy self thy beauty's legacy?\n",
      "Nature's bequest gives nothing but doth lend,\n",
      "And being frank she lends to those are free:\n",
      "Then beauteous niggard why dost thou abuse,\n",
      "The bounteous largess given thee to give?\n",
      "Profitless usurer why dost thou use\n",
      "So great a sum of sums yet canst not live?\n",
      "For having traffic with thy self alone,\n",
      "Thou of thy self thy sweet self dost deceive,\n",
      "Then how when nature calls thee to be gone,\n",
      "What acceptable audit canst thou leave?  \n",
      "Thy unused beauty must be tombed with thee,\n",
      "Which used lives th' executor to be.\n",
      "\n",
      "Those hours that with gentle work did frame\n",
      "The lovely gaze where every eye doth dwell\n",
      "Will play the tyrants to the very same,\n",
      "And that unfair which fairly doth excel:\n",
      "For never-resting time leads summer on\n",
      "To hideous winter and confounds him there,\n",
      "Sap checked with frost and lusty leaves quite gone,\n",
      "Beauty o'er-snowed and bareness every where:\n",
      "Then were not summer's distillation left\n",
      "A liquid prisoner pent in walls of glass,\n",
      "Beauty's effect with beauty were bereft,\n",
      "Nor it nor no remembrance what it was.\n",
      "But flowers distilled though they with winter meet,\n",
      "Leese but their show, their substance still lives sweet.\n",
      "  \n",
      "Then let not winter's ragged hand deface,\n",
      "In thee thy summer ere thou be distilled:\n",
      "Make sweet some vial; treasure thou some place,\n",
      "With beauty's treasure ere it be self-killed:\n",
      "That use is not forbidden usury,\n",
      "Which happies those that pay the willing loan;\n",
      "That's for thy self to breed another thee,\n",
      "Or ten times happier be it ten for one,\n",
      "Ten times thy self were happier than thou art,\n",
      "If ten of thine ten times refigured thee:\n",
      "Then what could death do if thou shouldst depart,\n",
      "Leaving thee living in posterity?\n",
      "Be not self-willed for thou art much too fair,\n",
      "To be death's conquest and make worms thine heir.\n",
      "\n",
      "Lo in the orient when the gracious light\n",
      "Lifts up his burning head, each under eye\n",
      "Doth homage to his new-appearing sight,\n",
      "Serving with looks his sacred majesty,  \n",
      "And having climbed the steep-up heavenly hill,\n",
      "Resembling strong youth in his middle age,\n",
      "Yet mortal looks adore his beauty still,\n",
      "Attending on his golden pilgrimage:\n",
      "But when from highmost pitch with weary car,\n",
      "Like feeble age he reeleth from the day,\n",
      "The eyes (fore duteous) now converted are\n",
      "From his low tract and look another way:\n",
      "So thou, thy self out-going in thy noon:\n",
      "Unlooked on diest unless thou get a son.\n",
      "\n",
      "Music to hear, why hear'st thou music sadly?\n",
      "Sweets with sweets war not, joy delights in joy:\n",
      "Why lov'st thou that which thou receiv'st not gladly,\n",
      "Or else receiv'st with pleasure thine annoy?\n",
      "If the true concord of well-tuned sounds,\n",
      "By unions married do offend thine ear,\n",
      "They do but sweetly chide thee, who confounds\n",
      "In singleness the parts that thou shouldst bear:  \n",
      "Mark how one string sweet husband to another,\n",
      "Strikes each in each by mutual ordering;\n",
      "Resembling sire, and child, and happy mother,\n",
      "Who all in one, one pleasing note do sing:\n",
      "Whose speechless song being many, seeming one,\n",
      "Sings this to thee, 'Thou single wilt prove none'.\n",
      "\n",
      "Is it for fear to wet a widow's eye,\n",
      "That thou consum'st thy self in single life?\n",
      "Ah, if thou issueless shalt hap to die,\n",
      "The world will wail thee like a makeless wife,\n",
      "The world will be thy widow and still weep,\n",
      "That thou no form of thee hast left behind,\n",
      "When every private widow well may keep,\n",
      "By children's eyes, her husband's shape in mind:\n",
      "Look what an unthrift in the world doth spend\n",
      "Shifts but his place, for still the world enjoys it;\n",
      "But beauty's waste hath in the world an end,\n",
      "And kept unused the user so destroys it:  \n",
      "No love toward others in that bosom sits\n",
      "That on himself such murd'rous shame commits.\n",
      "\n",
      "For shame deny that thou bear'st love to any\n",
      "Who for thy self art so unprovident.\n",
      "Grant if thou wilt, thou art beloved of many,\n",
      "But that thou none lov'st is most evident:\n",
      "For thou art so possessed with murd'rous hate,\n",
      "That 'gainst thy self thou stick'st not to conspire,\n",
      "Seeking that beauteous roof to ruinate\n",
      "Which to repair should be thy chief desire:\n",
      "O change thy thought, that I may change my mind,\n",
      "Shall hate be fairer lodged than gentle love?\n",
      "Be as thy presence is gracious and kind,\n",
      "Or to thy self at least kind-hearted prove,\n",
      "Make thee another self for love of me,\n",
      "That beauty still may live in thine or thee.\n",
      "  \n",
      "As fast as thou shalt wane so fast thou grow'st,\n",
      "In one of thine, from that which thou departest,\n",
      "And that fresh blood which youngly thou bestow'st,\n",
      "Thou mayst call thine, when thou from youth convertest,\n",
      "Herein lives wisdom, beauty, and increase,\n",
      "Without this folly, age, and cold decay,\n",
      "If all were minded so, the times should cease,\n",
      "And threescore year would make the world away:\n",
      "Let those whom nature hath not made for store,\n",
      "Harsh, featureless, and rude, barrenly perish:\n",
      "Look whom she best endowed, she gave thee more;\n",
      "Which bounteous gift thou shouldst in bounty cherish:\n",
      "She carved thee for her seal, and meant thereby,\n",
      "Thou shouldst print more, not let that copy die.\n",
      "\n",
      "When I do count the clock that tells the time,\n",
      "And see the brave day sunk in hideous night,\n",
      "When I behold the violet past prime,\n",
      "And sable curls all silvered o'er with white:  \n",
      "When lofty trees I see barren of leaves,\n",
      "Which erst from heat did canopy the herd\n",
      "And summer's green all girded up in sheaves\n",
      "Borne on the bier with white and bristly beard:\n",
      "Then of thy beauty do I question make\n",
      "That thou among the wastes of time must go,\n",
      "Since sweets and beauties do themselves forsake,\n",
      "And die as fast as they see others grow,\n",
      "And nothing 'gainst Time's scythe can make defence\n",
      "Save breed to brave him, when he takes thee hence.\n",
      "\n",
      "O that you were your self, but love you are\n",
      "No longer yours, than you your self here live,\n",
      "Against this coming end you should prepare,\n",
      "And your sweet semblance to some other give.\n",
      "So should that beauty which you hold in lease\n",
      "Find no determination, then you were\n",
      "Your self again after your self's decease,\n",
      "When your sweet issue your sweet form should bear.  \n",
      "Who lets so fair a house fall to decay,\n",
      "Which husbandry in honour might uphold,\n",
      "Against the stormy gusts of winter's day\n",
      "And barren rage of death's eternal cold?\n",
      "O none but unthrifts, dear my love you know,\n",
      "You had a father, let your son say so.\n",
      "\n",
      "Not from the stars do I my judgement pluck,\n",
      "And yet methinks I have astronomy,\n",
      "But not to tell of good, or evil luck,\n",
      "Of plagues, of dearths, or seasons' quality,\n",
      "Nor can I fortune to brief minutes tell;\n",
      "Pointing to each his thunder, rain and wind,\n",
      "Or say with princes if it shall go well\n",
      "By oft predict that I in heaven find.\n",
      "But from thine eyes my knowledge I derive,\n",
      "And constant stars in them I read such art\n",
      "As truth and beauty shall together thrive\n",
      "If from thy self, to store thou wouldst convert:  \n",
      "Or else of thee this I prognosticate,\n",
      "Thy end is truth's and beauty's doom and date.\n",
      "\n",
      "When I consider every thing that grows\n",
      "Holds in perfection but a little moment.\n",
      "That this huge stage presenteth nought but shows\n",
      "Whereon the stars in secret influence comment.\n",
      "When I perceive that men as plants increase,\n",
      "Cheered and checked even by the self-same sky:\n",
      "Vaunt in their youthful sap, at height decrease,\n",
      "And wear their brave state out of memory.\n",
      "Then the conceit of this inconstant stay,\n",
      "Sets you most rich in youth before my sight,\n",
      "Where wasteful time debateth with decay\n",
      "To change your day of youth to sullied night,\n",
      "And all in war with Time for love of you,\n",
      "As he takes from you, I engraft you new.\n",
      "  \n",
      "But wherefore do not you a mightier way\n",
      "Make war upon this bloody tyrant Time?\n",
      "And fortify your self in your decay\n",
      "With means more blessed than my barren rhyme?\n",
      "Now stand you on the top of happy hours,\n",
      "And many maiden gardens yet unset,\n",
      "With virtuous wish would bear you living flowers,\n",
      "Much liker than your painted counterfeit:\n",
      "So should the lines of life that life repair\n",
      "Which this (Time's pencil) or my pupil pen\n",
      "Neither in inward worth nor outward fair\n",
      "Can make you live your self in eyes of men.\n",
      "To give away your self, keeps your self still,\n",
      "And you must live drawn by your own sweet skill.\n",
      "\n",
      "Who will believe my verse in time to come\n",
      "If it were filled with your most high deserts?\n",
      "Though yet\n"
     ]
    }
   ],
   "source": [
    "import requests\n",
    "\n",
    "#import nltk\n",
    "#nltk.download('punkt')\n",
    "#from nltk.tokenize import word_tokenize\n",
    "\n",
    "import re\n",
    "\n",
    "# Download the file\n",
    "url = \"https://raw.githubusercontent.com/brunoklein99/deep-learning-notes/refs/heads/master/shakespeare.txt\"\n",
    "response = requests.get(url)\n",
    "text = response.text[0:9999]\n",
    "#text = \"Hello, world! Welcome to Python's string splitting.\"\n",
    "print(text)\n",
    "\n",
    "# Remove everything except word characters and spaces\n",
    "cleaned_text = re.sub(r'[^\\w\\s\\n]', '', text)\n",
    "word_list = cleaned_text.split(\" \") # word_tokenize(text.lower())\n",
    "\n",
    "# Create character-to-index and index-to-character mappings\n",
    "words = sorted(list(set(word_list)))\n",
    "word_to_idx = {w: i for i, w in enumerate(words)}\n",
    "idx_to_word = {i: w for i, w in enumerate(words)}\n",
    "\n",
    "# Prepare input and target sequences\n",
    "def prepare_sequences(text, seq_length):\n",
    "    input_seq = []\n",
    "    target_seq = []\n",
    "\n",
    "    for i in range(len(text) - seq_length):\n",
    "        input_seq.append([word_to_idx[w] for w in text[i:i + seq_length]])\n",
    "        target_seq.append(word_to_idx[text[i + seq_length]])\n",
    "\n",
    "    return np.array(input_seq), np.array(target_seq)\n",
    "\n",
    "seq_length = 5\n",
    "X, y = prepare_sequences(word_list, seq_length)\n",
    "X = torch.tensor(X, dtype=torch.long)\n",
    "y = torch.tensor(y, dtype=torch.long)"
   ]
  },
  {
   "cell_type": "markdown",
   "metadata": {
    "id": "r5snQV4GZo5Y"
   },
   "source": [
    "**Define the RNN architecture**\n",
    "\n",
    " Use an RNN layer (nn.LSTM) and a fully connected layer for the output."
   ]
  },
  {
   "cell_type": "code",
   "execution_count": 6,
   "metadata": {
    "executionInfo": {
     "elapsed": 3,
     "status": "ok",
     "timestamp": 1729951442854,
     "user": {
      "displayName": "Thomas Long",
      "userId": "15975061006049740720"
     },
     "user_tz": 240
    },
    "id": "V5WoFEr3P-sr"
   },
   "outputs": [],
   "source": [
    "class WordRNN(nn.Module):\n",
    "    def __init__(self, input_size, hidden_size, output_size): #input size, respresnts how many words in my vocab.\n",
    "        super(WordRNN, self).__init__()\n",
    "        self.hidden_size = hidden_size\n",
    "        self.rnn = nn.LSTM(input_size, hidden_size, batch_first=True)\n",
    "        self.fc = nn.Linear(hidden_size, output_size)\n",
    "\n",
    "    def forward(self, x):\n",
    "        # Initialize hidden state and cell state\n",
    "        h0 = (torch.zeros(1, x.size(0), self.hidden_size),\n",
    "              torch.zeros(1, x.size(0), self.hidden_size))\n",
    "        out, _ = self.rnn(x, h0)  # Forward pass\n",
    "        out = self.fc(out[:, -1, :])  # Get the last time step\n",
    "        return out\n"
   ]
  },
  {
   "cell_type": "markdown",
   "metadata": {
    "id": "3T_7oxaKZ5hr"
   },
   "source": [
    "**Training Loop**\n",
    "\n",
    "Train the model by feeding sequences and their targets (next wordss) to the RNN.\n",
    "\n",
    "Note that the words are encoded as vectors, with one \"dimension\" per word identified in the text."
   ]
  },
  {
   "cell_type": "code",
   "execution_count": 8,
   "metadata": {
    "colab": {
     "base_uri": "https://localhost:8080/"
    },
    "executionInfo": {
     "elapsed": 453658,
     "status": "ok",
     "timestamp": 1729951896509,
     "user": {
      "displayName": "Thomas Long",
      "userId": "15975061006049740720"
     },
     "user_tz": 240
    },
    "id": "iBGoop6BQPPc",
    "outputId": "a9cdaef9-bd39-400a-b9ce-53ed6038d090"
   },
   "outputs": [
    {
     "name": "stdout",
     "output_type": "stream",
     "text": [
      "Epoch [100/200], Loss: 0.3511\n",
      "Epoch [200/200], Loss: 0.9003\n"
     ]
    }
   ],
   "source": [
    "input_size = len(words)\n",
    "hidden_size = 128\n",
    "output_size = len(words)\n",
    "num_epochs = 300\n",
    "learning_rate = 0.1\n",
    "batch_size = 64\n",
    "num_batches = len(X) // batch_size\n",
    "\n",
    "model = WordRNN(input_size, hidden_size, output_size)\n",
    "criterion = nn.CrossEntropyLoss()\n",
    "optimizer = optim.Adam(model.parameters(), lr=learning_rate)\n",
    "\n",
    "# One-hot encode the input\n",
    "X_onehot = torch.zeros(X.size(0), X.size(1), input_size)\n",
    "X_onehot.scatter_(2, X.unsqueeze(2), 1)\n",
    "\n",
    "# Training loop\n",
    "for epoch in range(num_epochs):\n",
    "  # Shuffle the data\n",
    "  permute = torch.randperm(len(X_onehot))\n",
    "  X_shuffled = X_onehot[permute]  # use the permutation to index X in a random order\n",
    "  y_shuffled = y[permute]  # same for y\n",
    "\n",
    "  for i in range(num_batches):\n",
    "    # Grab data in batches\n",
    "    X_batch = X_shuffled[i:(i+batch_size)]\n",
    "    y_batch = y_shuffled[i:(i+batch_size)]\n",
    "\n",
    "    model.train()\n",
    "\n",
    "    optimizer.zero_grad()\n",
    "    output = model(X_batch)\n",
    "    loss = criterion(output, y_batch)\n",
    "    loss.backward()\n",
    "    optimizer.step()\n",
    "\n",
    "  if (epoch + 1) % 100 == 0:\n",
    "      print(f'Epoch [{epoch + 1}/{num_epochs}], Loss: {loss.item():.4f}')\n"
   ]
  },
  {
   "cell_type": "markdown",
   "metadata": {
    "id": "yWcpL1xuX4a3"
   },
   "source": [
    "**Text Generation**\n",
    "\n",
    " Generate text by sampling words from the trained model."
   ]
  },
  {
   "cell_type": "code",
   "execution_count": 10,
   "metadata": {
    "colab": {
     "base_uri": "https://localhost:8080/"
    },
    "executionInfo": {
     "elapsed": 13,
     "status": "ok",
     "timestamp": 1729951896510,
     "user": {
      "displayName": "Thomas Long",
      "userId": "15975061006049740720"
     },
     "user_tz": 240
    },
    "id": "nqKbscZ3QWsk",
    "outputId": "9deaa10e-997e-430f-b523-4aebcb9f50d3"
   },
   "outputs": [
    {
     "name": "stdout",
     "output_type": "stream",
     "text": [
      "beauty deceive\n",
      "Then many decrease\n",
      "And many decrease\n",
      "And \n"
     ]
    }
   ],
   "source": [
    "def generate_text(model, start_string, gen_length=5):\n",
    "    model.eval()\n",
    "    input_eval = [word_to_idx[s] for s in start_string.split()]\n",
    "    input_eval = torch.tensor(input_eval, dtype=torch.long).unsqueeze(0)\n",
    "\n",
    "    generated_text = start_string + \" \"\n",
    "\n",
    "    for _ in range(gen_length):\n",
    "        input_eval_onehot = torch.zeros(input_eval.size(0), input_eval.size(1), input_size)\n",
    "        input_eval_onehot.scatter_(2, input_eval.unsqueeze(2), 1)\n",
    "\n",
    "        predictions = model(input_eval_onehot)\n",
    "        predicted_word_idx = torch.argmax(predictions, dim=1).item()\n",
    "\n",
    "        generated_text += idx_to_word[predicted_word_idx] + \" \"\n",
    "        input_eval = torch.cat((input_eval[:, 1:], torch.tensor([[predicted_word_idx]])), dim=1)\n",
    "\n",
    "    return generated_text\n",
    "\n",
    "print(generate_text(model, start_string=\"fairest\"))\n"
   ]
  },
  {
   "cell_type": "code",
   "execution_count": null,
   "metadata": {},
   "outputs": [],
   "source": []
  }
 ],
 "metadata": {
  "colab": {
   "authorship_tag": "ABX9TyPqFzPg+6ldhsr1ILgcz4sf",
   "provenance": [
    {
     "file_id": "1_CmcST3Bw8xZ0ONfb6xikCMSn8BlAvDC",
     "timestamp": 1729915657410
    }
   ]
  },
  "kernelspec": {
   "display_name": "Python [conda env:base] *",
   "language": "python",
   "name": "conda-base-py"
  },
  "language_info": {
   "codemirror_mode": {
    "name": "ipython",
    "version": 3
   },
   "file_extension": ".py",
   "mimetype": "text/x-python",
   "name": "python",
   "nbconvert_exporter": "python",
   "pygments_lexer": "ipython3",
   "version": "3.12.3"
  }
 },
 "nbformat": 4,
 "nbformat_minor": 4
}
