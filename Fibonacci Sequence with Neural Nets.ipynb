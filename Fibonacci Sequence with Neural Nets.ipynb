{
 "cells": [
  {
   "cell_type": "markdown",
   "metadata": {
    "id": "aetkJajA4wBM"
   },
   "source": [
    "# **Fibonacci Sequence**\n",
    "\n",
    "[<img src=\"https://upload.wikimedia.org/wikipedia/commons/b/b9/Fibonacci_Spiral.svg\" width=300 height=300>](https://commons.wikimedia.org/wiki/File:Fibonacci_Spiral.svg)\n",
    "\n",
    "The *Fibonacci sequence* is the sequence of numbers defined as follows:\n",
    "\n",
    "$F_0 = 0$\n",
    "\n",
    "$F_1 = 1$\n",
    "\n",
    "$\\vdots$\n",
    "\n",
    "$F_n = F_{n-1} + F_{n-2}$\n",
    "\n",
    "The goal in this example is to train a neural network that learn to predict the Fibonacci sequence using the sequence of numbers as training data."
   ]
  },
  {
   "cell_type": "markdown",
   "metadata": {
    "id": "ZRO3csVnaBri"
   },
   "source": [
    "### *Generate the Fibonacci Sequence in Python*"
   ]
  },
  {
   "cell_type": "code",
   "execution_count": 3,
   "metadata": {
    "executionInfo": {
     "elapsed": 10052,
     "status": "ok",
     "timestamp": 1729948942754,
     "user": {
      "displayName": "Thomas Long",
      "userId": "15975061006049740720"
     },
     "user_tz": 240
    },
    "id": "AF8dbmmcpnEk"
   },
   "outputs": [],
   "source": [
    "import torch\n",
    "\n",
    "import torch\n",
    "torch.manual_seed(0)\n",
    "\n",
    "# Generate the fibonacci numbers\n",
    "M = 20\n",
    "F = torch.zeros(M+1, 1)  # initialize a column vector\n",
    "\n",
    "F[0] = 0; F[1] = 1\n",
    "for n in range(2, M+1):\n",
    "  F[n] = F[n-1] + F[n-2]"
   ]
  },
  {
   "cell_type": "markdown",
   "metadata": {
    "id": "_JxmotTDa6Ut"
   },
   "source": [
    "### *Generate Subsequences*\n",
    "\n",
    "Generate the subsequences of the Fibonacci sequence to use as training data."
   ]
  },
  {
   "cell_type": "code",
   "execution_count": 5,
   "metadata": {
    "colab": {
     "base_uri": "https://localhost:8080/"
    },
    "executionInfo": {
     "elapsed": 5,
     "status": "ok",
     "timestamp": 1729948942755,
     "user": {
      "displayName": "Thomas Long",
      "userId": "15975061006049740720"
     },
     "user_tz": 240
    },
    "id": "f37aq35LxRoK",
    "outputId": "246c5850-9739-48ca-fab3-f4ddf9c05f84"
   },
   "outputs": [
    {
     "name": "stdout",
     "output_type": "stream",
     "text": [
      "The sequence of Fibonacci numbers :\n",
      "\n",
      "[0, 1, 1, 2, 3, 5, 8, 13, 21, 34, 55, 89, 144, 233, 377, 610, 987, 1597, 2584, 4181, 6765] \n",
      "\n",
      "and the 17 subsequences of size 4:\n",
      "\n",
      "tensor([[[   0],\n",
      "         [   1],\n",
      "         [   1],\n",
      "         [   2]],\n",
      "\n",
      "        [[   1],\n",
      "         [   1],\n",
      "         [   2],\n",
      "         [   3]],\n",
      "\n",
      "        [[   1],\n",
      "         [   2],\n",
      "         [   3],\n",
      "         [   5]],\n",
      "\n",
      "        [[   2],\n",
      "         [   3],\n",
      "         [   5],\n",
      "         [   8]],\n",
      "\n",
      "        [[   3],\n",
      "         [   5],\n",
      "         [   8],\n",
      "         [  13]],\n",
      "\n",
      "        [[   5],\n",
      "         [   8],\n",
      "         [  13],\n",
      "         [  21]],\n",
      "\n",
      "        [[   8],\n",
      "         [  13],\n",
      "         [  21],\n",
      "         [  34]],\n",
      "\n",
      "        [[  13],\n",
      "         [  21],\n",
      "         [  34],\n",
      "         [  55]],\n",
      "\n",
      "        [[  21],\n",
      "         [  34],\n",
      "         [  55],\n",
      "         [  89]],\n",
      "\n",
      "        [[  34],\n",
      "         [  55],\n",
      "         [  89],\n",
      "         [ 144]],\n",
      "\n",
      "        [[  55],\n",
      "         [  89],\n",
      "         [ 144],\n",
      "         [ 233]],\n",
      "\n",
      "        [[  89],\n",
      "         [ 144],\n",
      "         [ 233],\n",
      "         [ 377]],\n",
      "\n",
      "        [[ 144],\n",
      "         [ 233],\n",
      "         [ 377],\n",
      "         [ 610]],\n",
      "\n",
      "        [[ 233],\n",
      "         [ 377],\n",
      "         [ 610],\n",
      "         [ 987]],\n",
      "\n",
      "        [[ 377],\n",
      "         [ 610],\n",
      "         [ 987],\n",
      "         [1597]],\n",
      "\n",
      "        [[ 610],\n",
      "         [ 987],\n",
      "         [1597],\n",
      "         [2584]],\n",
      "\n",
      "        [[ 987],\n",
      "         [1597],\n",
      "         [2584],\n",
      "         [4181]]])\n"
     ]
    }
   ],
   "source": [
    "# Hyperparameter\n",
    "TIME_STEPS = 4\n",
    "\n",
    "# Generate sequences of length TIME_STEPS\n",
    "m = M - TIME_STEPS + 1\n",
    "\n",
    "G = torch.zeros(m, TIME_STEPS, 1)\n",
    "for i in range(m):\n",
    "  G[i] = F[i:i+TIME_STEPS]\n",
    "\n",
    "print(f\"The sequence of Fibonacci numbers :\\n\\n{F.T[0].long().tolist()}\", f\"\\n\\nand the {len(G)} subsequences of size {TIME_STEPS}:\\n\\n{G.long()}\")"
   ]
  },
  {
   "cell_type": "markdown",
   "metadata": {
    "id": "vo_A2daiWbad"
   },
   "source": [
    "### *Split Data Into Training and Test Components*\n",
    "\n",
    "Preprocess the data by normalizing the Fibonacci numbers by the largest value. Then split the data into the training and test components."
   ]
  },
  {
   "cell_type": "code",
   "execution_count": 7,
   "metadata": {
    "executionInfo": {
     "elapsed": 179,
     "status": "ok",
     "timestamp": 1729948942931,
     "user": {
      "displayName": "Thomas Long",
      "userId": "15975061006049740720"
     },
     "user_tz": 240
    },
    "id": "U0kRCbAfqol4"
   },
   "outputs": [],
   "source": [
    "# Normalize the values by the maximum\n",
    "normalizer = 10 / F[-1].item()  # seq is increasing => max = last value\n",
    "\n",
    "# Split the fibonacci numbers into training and test components\n",
    "N = int(.8 * m)  # Size of the training set = 80% of original data set\n",
    "permute = torch.randperm(m)\n",
    "\n",
    "x_train = G[permute][0:N] * normalizer\n",
    "y_train = F[permute+TIME_STEPS][0:N] * normalizer\n",
    "\n",
    "x_test = G[permute][N:] * normalizer\n",
    "y_test = F[permute+TIME_STEPS][N:] * normalizer\n",
    "\n",
    "# Save the indices of the test set for later use\n",
    "test_set = permute[N:].long().tolist()\n",
    "\n",
    "#print(N, G.shape, F.shape, x_train.shape, y_train.shape, x_test.shape, y_test.shape)\n",
    "#print(train_idxs, test_idxs)"
   ]
  },
  {
   "cell_type": "markdown",
   "metadata": {
    "id": "_G448yxDXHc-"
   },
   "source": [
    "### *Recurrent Neural Network*\n",
    "\n",
    "RNN with 1 input neuron, 1 recurrent layer and 1 linear layer with a single output neuron."
   ]
  },
  {
   "cell_type": "code",
   "execution_count": 9,
   "metadata": {
    "executionInfo": {
     "elapsed": 3,
     "status": "ok",
     "timestamp": 1729948942931,
     "user": {
      "displayName": "Thomas Long",
      "userId": "15975061006049740720"
     },
     "user_tz": 240
    },
    "id": "XQg7lkVS5Xbz"
   },
   "outputs": [],
   "source": [
    "from torch import nn\n",
    "\n",
    "class FibNet_RNN(nn.Module):\n",
    "\n",
    "  def __init__(self, hidden_size, input_size=1, output_size=1, num_layers=1):\n",
    "    super().__init__()\n",
    "    self.input_size = input_size\n",
    "    self.hidden_size = hidden_size\n",
    "    self.output_size = output_size\n",
    "    self.num_layers = num_layers\n",
    "\n",
    "    self.rnn = nn.RNN(input_size, hidden_size, num_layers=num_layers,\n",
    "                      batch_first=True,\n",
    "                      nonlinearity='relu')\n",
    "    self.linear = nn.Linear(hidden_size, output_size) #perceptron\n",
    "\n",
    "    self.is_rnn = True\n",
    "\n",
    "  def forward(self, x): # x represents the input; a sequence of values\n",
    "    # Initialize the hidden state with all zeros\n",
    "    batch_size = len(x)\n",
    "    H_0 = torch.zeros(self.num_layers, batch_size, self.hidden_size) # initial hidden state for the first time step\n",
    "\n",
    "    # Pass a sequence of values thru the recurrent layer(s)\n",
    "    out, _ = self.rnn(x, H_0) \n",
    "\n",
    "    # Pass the final output (as sequence of values; 4 in this ex.) at the final layer to the fully-connected layer\n",
    "    y = self.linear(out[:, -1, :]) #get only the last output value (the prediction of the previous fib. sequence)\n",
    "\n",
    "    return y"
   ]
  },
  {
   "cell_type": "markdown",
   "metadata": {
    "id": "aVBhUr9AXZLR"
   },
   "source": [
    "### *Train the Network*\n"
   ]
  },
  {
   "cell_type": "code",
   "execution_count": 11,
   "metadata": {
    "colab": {
     "base_uri": "https://localhost:8080/"
    },
    "executionInfo": {
     "elapsed": 78880,
     "status": "ok",
     "timestamp": 1729949021808,
     "user": {
      "displayName": "Thomas Long",
      "userId": "15975061006049740720"
     },
     "user_tz": 240
    },
    "id": "YFvY2I5dtlD2",
    "outputId": "48d1b3aa-15f2-488b-a29a-060631641281"
   },
   "outputs": [
    {
     "name": "stdout",
     "output_type": "stream",
     "text": [
      "Epoch     1:  Training Loss = 11.00177; Test Loss = 16.72475\n",
      "Epoch   200:  Training Loss = 0.00338; Test Loss = 0.00553\n",
      "Epoch   400:  Training Loss = 0.00029; Test Loss = 0.00064\n",
      "Epoch   600:  Training Loss = 0.00005; Test Loss = 0.00023\n",
      "Epoch   800:  Training Loss = 0.00001; Test Loss = 0.00015\n",
      "Epoch  1000:  Training Loss = 0.00001; Test Loss = 0.00011\n",
      "Epoch  1200:  Training Loss = 0.00000; Test Loss = 0.00009\n",
      "Epoch  1400:  Training Loss = 0.00000; Test Loss = 0.00007\n",
      "Epoch  1600:  Training Loss = 0.00000; Test Loss = 0.00006\n",
      "Epoch  1800:  Training Loss = 0.00000; Test Loss = 0.00004\n",
      "Epoch  2000:  Training Loss = 0.00000; Test Loss = 0.00004\n",
      "Epoch  2200:  Training Loss = 0.00000; Test Loss = 0.00003\n",
      "Epoch  2400:  Training Loss = 0.00000; Test Loss = 0.00002\n",
      "Epoch  2600:  Training Loss = 0.00000; Test Loss = 0.00002\n",
      "Epoch  2800:  Training Loss = 0.00000; Test Loss = 0.00002\n",
      "Epoch  3000:  Training Loss = 0.00000; Test Loss = 0.00001\n",
      "\n",
      "Done!\n"
     ]
    }
   ],
   "source": [
    "# Import deepcopy to save model state from epoch to epoch\n",
    "#from copy import deepcopy\n",
    "\n",
    "# Hyperparameters\n",
    "HIDDEN_NEURONS = 4 # RNN\n",
    "\n",
    "LEARNING_RATE = .0001\n",
    "MOMENTUM = .9\n",
    "EPOCHS = 3000\n",
    "EPOCH_SAVE_FREQ = 200 # Frequency with which to save data\n",
    "\n",
    "# Create an instance of the neural net\n",
    "model = FibNet_RNN(hidden_size=HIDDEN_NEURONS)\n",
    "\n",
    "# Choose a loss function and an optimizer\n",
    "loss_fn = nn.MSELoss()  # Mean-square error loss for numerical data\n",
    "optimizer = torch.optim.SGD(model.parameters(), lr=LEARNING_RATE, momentum=MOMENTUM)  # Stochastic gradient descent\n",
    "\n",
    "# Divide the data into batches\n",
    "batch_size = 1\n",
    "num_batches = N//batch_size  # Integer division\n",
    "\n",
    "# Store model data and loss for later analysis\n",
    "train_loss_data = []\n",
    "test_loss_data = []\n",
    "\n",
    "model_versions = {}\n",
    "\n",
    "# Train the net for multiple epochs\n",
    "for epoch in range(EPOCHS):\n",
    "  # Shuffle the data to create a random sample\n",
    "  permute = torch.randperm(N)  # shuffle the numbers 0, 1, ..., N - 1\n",
    "  x_shuffled = x_train[permute]  # use the permutation to index X in a random order\n",
    "  y_shuffled = y_train[permute]  # same for y\n",
    "\n",
    "  # Training loop:  Calculate SGD using batches of batch_size\n",
    "  train_loss = 0\n",
    "  for i in range(num_batches):\n",
    "    # Grab data in batches\n",
    "    x_batch = x_shuffled[i:(i+batch_size)]\n",
    "    y_batch = y_shuffled[i:(i+batch_size)]\n",
    "\n",
    "    # Zero out the gradient for next iteration\n",
    "    optimizer.zero_grad()\n",
    "\n",
    "    # Compute prediction and loss for the current batch\n",
    "    y_pred = model(x_batch)  # forward propagation\n",
    "    loss = loss_fn(y_pred, y_batch)  # Computes 1/batch_size * abs(y_pred - y).sum()\n",
    "    train_loss += loss.item()\n",
    "\n",
    "    # Backpropagation -- adjust the weights to reduce the loss\n",
    "    loss.backward()  # numerically compute gradient = d(loss_fn)/dw for each w\n",
    "    optimizer.step()  # update weights to move in the direction of the gradient\n",
    "\n",
    "  # Calculate some summary statistics for the current epoch\n",
    "  avg_train_loss = train_loss/num_batches\n",
    "\n",
    "  # Test loop\n",
    "  with torch.no_grad():\n",
    "    test_loss = 0\n",
    "    for i, x in enumerate(x_test):\n",
    "      # Use the next Fibonacci number\n",
    "      x = x[None, :] #if model.is_rnn else x\n",
    "      y_pred = model(x)\n",
    "\n",
    "      # Calculate the loss\n",
    "      y_true = y_test[None, i]\n",
    "      loss = loss_fn(y_pred, y_true)\n",
    "      test_loss += loss.item()\n",
    "\n",
    "    avg_test_loss = test_loss / len(x_test)\n",
    "\n",
    "  # Save some data every few epochs; always save the first epoch\n",
    "  if ((epoch+1) % EPOCH_SAVE_FREQ == 0 or epoch == 0):\n",
    "    train_loss_data.append(avg_train_loss)\n",
    "    test_loss_data.append(avg_test_loss)\n",
    "\n",
    "    filename = f\"model_weights{epoch+1:02d}.pth\"\n",
    "    torch.save(model.state_dict(), filename)\n",
    "\n",
    "    print(f\"Epoch {epoch+1:5d}:  Training Loss = {avg_train_loss:.5f}; Test Loss = {avg_test_loss:.5f}\")\n",
    "\n",
    "print(\"\\nDone!\")"
   ]
  },
  {
   "cell_type": "markdown",
   "metadata": {
    "id": "ehPD-Gy8Xxdb"
   },
   "source": [
    "### *Display The Model Output*\n",
    "\n",
    "Show the predicted output for each subsequence."
   ]
  },
  {
   "cell_type": "code",
   "execution_count": 13,
   "metadata": {
    "colab": {
     "base_uri": "https://localhost:8080/"
    },
    "executionInfo": {
     "elapsed": 166,
     "status": "ok",
     "timestamp": 1729949026734,
     "user": {
      "displayName": "Thomas Long",
      "userId": "15975061006049740720"
     },
     "user_tz": 240
    },
    "id": "xgIZmjgE_fLM",
    "outputId": "51a465e1-4512-415a-d82e-aa305e89c459"
   },
   "outputs": [
    {
     "name": "stdout",
     "output_type": "stream",
     "text": [
      "Sequence                         Predict  Correct  Diff  % Diff\n",
      "_______________________________  _______  _______  ____  ______\n",
      "[0, 1, 1, 2]                           5        3     2    80.0 *\n",
      "[1, 1, 2, 3]                           5        5     0     9.5\n",
      "[1, 2, 3, 5]                           8        8     0     0.4\n",
      "[2, 3, 5, 8]                          13       13     0     2.7\n",
      "[3, 5, 8, 13]                         21       21     0     1.8 *\n",
      "[5, 8, 13, 21]                        34       34     0     1.2\n",
      "[8, 13, 21, 34]                       55       55     0     0.6\n",
      "[13, 21, 34, 55]                      89       89     0     0.4\n",
      "[21, 34, 55, 89]                     144      144     0     0.2\n",
      "[34, 55, 89, 144]                    233      233     0     0.1\n",
      "[55, 89, 144, 233]                   377      377     0     0.0\n",
      "[89, 144, 233, 377]                  610      610     0     0.0\n",
      "[144, 233, 377, 610]                 988      987     1     0.1\n",
      "[233, 377, 610, 987]                1598     1597     1     0.1\n",
      "[377, 610, 987, 1597]               2586     2584     2     0.1 *\n",
      "[610, 987, 1597, 2584]              4185     4181     4     0.1 *\n",
      "[987, 1597, 2584, 4181]             6765     6765     0     0.0\n"
     ]
    }
   ],
   "source": [
    "VERSION = EPOCHS\n",
    "#model.load_state_dict(model_versions[VERSION])  # Recall a model version\n",
    "\n",
    "# Make a headers for a table\n",
    "col1_width = len(str(G[-1, :].long().tolist()))\n",
    "col1_width = max(col1_width, 8)  # at least as long as \"Sequence\"\n",
    "print(\"Sequence\", \" \" * (col1_width - 8), \"Predict\", \" Correct\", \" Diff\", \" % Diff\")\n",
    "print(\"_\" * col1_width + \"  \" + \"_\" * 7 + \"  \" + \"_\" * 7 + \"  \" + \"_\" * 4 + \"  \" +  \"_\" * 6)\n",
    "\n",
    "# Show the model prediction for each subsequence\n",
    "for i, seq in enumerate(G):\n",
    "  #print(seq.T[0].long().tolist())\n",
    "  pretty_seq = seq[:,0].long().tolist()\n",
    "\n",
    "  x = seq * normalizer\n",
    "  x = x[None, :]\n",
    "\n",
    "  pred = model(x).item() / normalizer\n",
    "  correct = F[i+TIME_STEPS].long().item()\n",
    "  diff = abs(pred - correct)\n",
    "  percent = diff / correct * 100\n",
    "\n",
    "  print(f\"{pretty_seq!s:{col1_width}}  {pred:7.0f} {correct:8}  {diff:4.0f} {percent:7.1f}\", end=\"\")\n",
    "  # {pred:7.0f} means 7 places, no decimal (equivalent to rounding), try {pred:7.3f} & {diff:4.3f}\n",
    "  print(\" *\", end=\"\") if i in test_set else None  # Mark the predictions from the test set\n",
    "  print(\"\")"
   ]
  },
  {
   "cell_type": "markdown",
   "metadata": {
    "id": "jX69NE3EZVnG"
   },
   "source": [
    "### *Plot the Learning Curve*"
   ]
  },
  {
   "cell_type": "code",
   "execution_count": 15,
   "metadata": {
    "colab": {
     "base_uri": "https://localhost:8080/",
     "height": 455
    },
    "executionInfo": {
     "elapsed": 362,
     "status": "ok",
     "timestamp": 1729949076363,
     "user": {
      "displayName": "Thomas Long",
      "userId": "15975061006049740720"
     },
     "user_tz": 240
    },
    "id": "8KS9wPFF3-6h",
    "outputId": "734e8111-b94d-45b0-a438-0bca6f722a1d"
   },
   "outputs": [
    {
     "data": {
      "image/png": "[encoded data removed]",
      "text/plain": [
       "<Figure size 640x480 with 1 Axes>"
      ]
     },
     "metadata": {},
     "output_type": "display_data"
    }
   ],
   "source": [
    "import matplotlib.pyplot as plt\n",
    "\n",
    "# Create the figure and axes objects\n",
    "fig, ax1 = plt.subplots()\n",
    "\n",
    "# Create the x data (time in epochs))\n",
    "x_data = [EPOCH_SAVE_FREQ*i for i in range(EPOCHS//EPOCH_SAVE_FREQ + 1)]\n",
    "\n",
    "# Plot the data on the first y-axis\n",
    "loss_plot1, = ax1.plot(x_data, train_loss_data)\n",
    "loss_plot2, = ax1.plot(x_data, test_loss_data)\n",
    "\n",
    "# Axis limits\n",
    "ax1.set_ylim([0, 0.0001])\n",
    "\n",
    "# Set the labels for the x-axis and y-axes\n",
    "ax1.set_xlabel('Epochs')\n",
    "ax1.set_ylabel('Loss')\n",
    "\n",
    "# Set the ticks for the x-axis\n",
    "#ax1.xaxis.set_major_locator(plt.MultipleLocator(5))\n",
    "#ax1.xaxis.set_minor_locator(plt.MultipleLocator(1))\n",
    "\n",
    "# Add a legend\n",
    "plt.legend([loss_plot1, loss_plot2],\n",
    "           [\"Loss (Train)\", \"Loss (Test)\"],\n",
    "           loc='upper right'\n",
    ")\n",
    "\n",
    "# Show the plots\n",
    "plt.show()"
   ]
  },
  {
   "cell_type": "code",
   "execution_count": null,
   "metadata": {},
   "outputs": [],
   "source": []
  }
 ],
 "metadata": {
  "colab": {
   "authorship_tag": "ABX9TyNd7eJb/nyHaL/+60XxD+ux",
   "provenance": [
    {
     "file_id": "15YODOgu_-iKL-8OmEbjtnC6RCXrMCtYB",
     "timestamp": 1729903483852
    },
    {
     "file_id": "1azPeXpmIr-sjAE6lFHRqhCUK6ieGDFob",
     "timestamp": 1698359369583
    }
   ]
  },
  "kernelspec": {
   "display_name": "Python [conda env:base] *",
   "language": "python",
   "name": "conda-base-py"
  },
  "language_info": {
   "codemirror_mode": {
    "name": "ipython",
    "version": 3
   },
   "file_extension": ".py",
   "mimetype": "text/x-python",
   "name": "python",
   "nbconvert_exporter": "python",
   "pygments_lexer": "ipython3",
   "version": "3.12.3"
  }
 },
 "nbformat": 4,
 "nbformat_minor": 4
}
